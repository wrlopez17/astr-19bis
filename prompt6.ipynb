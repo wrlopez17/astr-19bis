{
 "cells": [
  {
   "cell_type": "markdown",
   "id": "7ad94db9",
   "metadata": {},
   "source": [
    "## Function to Calculate sin(x)\n",
    "This function `sin_function(x)` takes a value `x` as input and returns the sine of `x`."
   ]
  },
  {
   "cell_type": "code",
   "execution_count": 3,
   "id": "d36b9fe4",
   "metadata": {},
   "outputs": [],
   "source": [
    "import math\n",
    "\n",
    "def sin_function(x):\n",
    "    return math.sin(x)"
   ]
  },
  {
   "cell_type": "markdown",
   "id": "f9136208",
   "metadata": {},
   "source": [
    "## Function to Calculate cos(x)\n",
    "This function `cos_function(x)` receives a value `x` as input and returns the cosine of `x`."
   ]
  },
  {
   "cell_type": "code",
   "execution_count": 4,
   "id": "84554abd",
   "metadata": {},
   "outputs": [],
   "source": [
    "\n",
    "def cos_function(x):\n",
    "    return math.cos(x)\n"
   ]
  },
  {
   "cell_type": "markdown",
   "id": "c99db8a6",
   "metadata": {},
   "source": [
    "## Tabulation of sin(x) and cos(x)\n",
    "In the following Python cell, we tabulate `sin(x)` and `cos(x)` for values of `x` ranging from 0 to 2 with a thousand entries."
   ]
  },
  {
   "cell_type": "code",
   "execution_count": 5,
   "id": "8de758b7",
   "metadata": {},
   "outputs": [],
   "source": [
    "import numpy as np\n",
    "\n",
    "# Generating x values from 0 to 2\n",
    "x_values = np.linspace(0, 2, 1000)\n",
    "\n",
    "# Tabulating sin(x) and cos(x)\n",
    "sin_values = [sin_function(x) for x in x_values]\n",
    "cos_values = [cos_function(x) for x in x_values]"
   ]
  },
  {
   "cell_type": "markdown",
   "id": "9deacf62",
   "metadata": {},
   "source": [
    "## Printing First 10 Values of x, sin(x), and cos(x)\n",
    "In the next cell, we use a for loop to print out the first 10 values of `x`, `sin(x)`, and `cos(x)` in column format. This showcases a basic way to display a small subset of the tabulated data."
   ]
  },
  {
   "cell_type": "code",
   "execution_count": 6,
   "id": "ead410c7",
   "metadata": {},
   "outputs": [
    {
     "name": "stdout",
     "output_type": "stream",
     "text": [
      "0.0000 \t 0.0000 \t 1.0000\n",
      "0.0020 \t 0.0020 \t 1.0000\n",
      "0.0040 \t 0.0040 \t 1.0000\n",
      "0.0060 \t 0.0060 \t 1.0000\n",
      "0.0080 \t 0.0080 \t 1.0000\n",
      "0.0100 \t 0.0100 \t 0.9999\n",
      "0.0120 \t 0.0120 \t 0.9999\n",
      "0.0140 \t 0.0140 \t 0.9999\n",
      "0.0160 \t 0.0160 \t 0.9999\n",
      "0.0180 \t 0.0180 \t 0.9998\n"
     ]
    }
   ],
   "source": [
    "# Printing first 10 values\n",
    "for i in range(10):\n",
    "    print(f\"{x_values[i]:.4f} \t {sin_values[i]:.4f} \t {cos_values[i]:.4f}\")"
   ]
  },
  {
   "cell_type": "code",
   "execution_count": null,
   "id": "afd2f95e",
   "metadata": {},
   "outputs": [],
   "source": []
  }
 ],
 "metadata": {
  "kernelspec": {
   "display_name": "Python 3 (ipykernel)",
   "language": "python",
   "name": "python3"
  },
  "language_info": {
   "codemirror_mode": {
    "name": "ipython",
    "version": 3
   },
   "file_extension": ".py",
   "mimetype": "text/x-python",
   "name": "python",
   "nbconvert_exporter": "python",
   "pygments_lexer": "ipython3",
   "version": "3.9.7"
  }
 },
 "nbformat": 4,
 "nbformat_minor": 5
}
